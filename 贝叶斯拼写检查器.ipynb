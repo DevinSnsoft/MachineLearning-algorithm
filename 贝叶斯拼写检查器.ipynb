{
 "cells": [
  {
   "cell_type": "code",
   "execution_count": 8,
   "id": "b92b5f9c",
   "metadata": {},
   "outputs": [],
   "source": [
    "import re,collections\n",
    "\n",
    "# 求解：argmaxc P(c|w) -> argmaxc P(w|c)P(c)/P(w)\n",
    "# P(c):文章中出现一个正确拼写词c的概率，也就是说，在英语文章中，c出现的概率有多大\n",
    "# P(w|c)：在用户想输入c的情况下敲成w的概率，因为这个是代表用户会以多大的概率把c敲错成w\n",
    "# argmaxc：用来枚举所有可能的c并且选取概率最大的\n",
    "\n",
    "# 把预料中的单词全部抽取出来，转成小写，并且去除单词中间的特殊符号\n",
    "def words(text):return re.findall('[a-z]+',text.lower())\n",
    "\n",
    "def train(features):\n",
    "    model = collections.defaultdict(lambda:1)\n",
    "    for f in features:\n",
    "        model[f] += 1\n",
    "    return model\n",
    "\n",
    "NWORDS = train(words(open('big.txt').read()))\n",
    "\n",
    "alphabet = 'abcdefghijklmnopqrstuvwxyz'\n",
    "\n",
    "# 编辑距离：两个词之间的编辑距离定义为使用了几次插入(在词中插入一个单字母)，删除(删除一个单字母)，交换(交换\n",
    "# 相邻两个字母)，替换(把一个字母换成另一个)的操作从一个词变成另一个词\n",
    "\n",
    "# 返回所有与单词w编辑距离为1的集合\n",
    "def edits1(word):\n",
    "    n = len(word)\n",
    "    return set([word[0:i]+word[i+1:] for i in range(n)] +                       # deletion\n",
    "              [word[0:i]+word[i+1]+word[i]+word[i+2:] for i in range(n-1)] +    # transposition\n",
    "              [word[0:i]+c+word[i+1:] for i in range(n) for c in alphabet] +    # alteration\n",
    "              [word[0:i]+c+word[i:] for i in range(n+1) for c in alphabet])     # insertion\n",
    "\n",
    "# 返回所有与单词w编辑距离为2的集合\n",
    "# 在这些编辑距离小于2的词中间，只把那些正确的词作为候选词\n",
    "def edits2(word):\n",
    "    return set(e2 for e1 in edits1(word) for e2 in edits1(e1))\n",
    "\n",
    "def known_edits2(word):\n",
    "    return set(e2 for e1 in edits1(word) for e2 in edits1(e1) if e2 in NWORDS)\n",
    "\n",
    "# 为了简单起见，选择一个简单的方法：编辑距离为1的正确单词比编辑距离为2的优先级高，\n",
    "# 而编辑距离为0的正确单词优先级比编辑距离为1的高\n",
    "def known(words):\n",
    "    return set(w for w in words if w in NWORDS)\n",
    "\n",
    "# 如果known(set)非空，candidate就会选取这个集合，而不继续计算后面的\n",
    "def correct(word):\n",
    "    candidates = known([word]) or known(edits1(word)) or known_edits2(word) or [word]\n",
    "    return max(candidates, key=lambda w: NWORDS[w])"
   ]
  },
  {
   "cell_type": "code",
   "execution_count": 9,
   "id": "5402c0cf",
   "metadata": {},
   "outputs": [
    {
     "data": {
      "text/plain": [
       "'less'"
      ]
     },
     "execution_count": 9,
     "metadata": {},
     "output_type": "execute_result"
    }
   ],
   "source": [
    "# appl # appla # learw # tess # morw\n",
    "correct('tess')"
   ]
  },
  {
   "cell_type": "code",
   "execution_count": null,
   "id": "2dc2cb1b",
   "metadata": {},
   "outputs": [],
   "source": []
  }
 ],
 "metadata": {
  "kernelspec": {
   "display_name": "Python 3 (ipykernel)",
   "language": "python",
   "name": "python3"
  },
  "language_info": {
   "codemirror_mode": {
    "name": "ipython",
    "version": 3
   },
   "file_extension": ".py",
   "mimetype": "text/x-python",
   "name": "python",
   "nbconvert_exporter": "python",
   "pygments_lexer": "ipython3",
   "version": "3.9.12"
  }
 },
 "nbformat": 4,
 "nbformat_minor": 5
}
